{
 "cells": [
  {
   "cell_type": "markdown",
   "metadata": {},
   "source": [
    "Вы работаете секретарем и вам постоянно приходят различные документы. Вы должны быть очень внимательны, чтобы не потерять ни один документ. Каталог документов хранится в следующем виде:"
   ]
  },
  {
   "cell_type": "code",
   "execution_count": null,
   "metadata": {},
   "outputs": [],
   "source": [
    "documents = [\n",
    "    {'type': 'passport', 'number': '2207 876234', 'name': 'Василий Гупкин'},\n",
    "    {'type': 'invoice', 'number': '11-2', 'name': 'Геннадий Покемонов'},\n",
    "    {'type': 'insurance', 'number': '10006', 'name': 'Аристарх Павлов'}\n",
    "]"
   ]
  },
  {
   "cell_type": "markdown",
   "metadata": {},
   "source": [
    "Перечень полок, на которых находятся документы хранится в следующем виде:"
   ]
  },
  {
   "cell_type": "code",
   "execution_count": null,
   "metadata": {},
   "outputs": [],
   "source": [
    "directories = {\n",
    "    '1': ['2207 876234', '11-2'],\n",
    "    '2': ['10006'],\n",
    "    '3': []\n",
    "}\n"
   ]
  },
  {
   "cell_type": "markdown",
   "metadata": {},
   "source": [
    "Необходимо реализовать пользовательские команды (внимание! это не название функций, которые должны быть выразительными, а команды, которые вводит пользователь, чтобы получить необходимый результат):\n",
    "  \n",
    "- p – people – команда, которая спросит номер документа и выведет имя человека, которому он принадлежит;  \n",
    "- s – shelf – команда, которая спросит номер документа и выведет номер полки, на которой он находится  \n",
    "*Правильно обработайте ситуации, когда пользователь будет вводить несуществующий документ*.\n",
    "- l – list – команда, которая выведет список всех документов в формате   \n",
    "**passport \"2207 876234\" \"Василий Гупкин\"**  \n",
    "- as – add shelf – команда, которая спросит номер новой полки и добавит ее в перечень. *Предусмотрите случай, когда пользователь добавляет полку, которая уже существует*.\n",
    "- d – delete – команда, которая спросит номер документа и удалит его из каталога и из перечня полок. *Предусмотрите сценарий, когда пользователь вводит несуществующий документ*;  \n",
    "- m – move – команда, которая спросит номер документа и целевую полку и переместит его с текущей полки на целевую. *Корректно обработайте кейсы, когда пользователь пытается переместить несуществующий документ или переместить документ на несуществующую полку*;  \n",
    "- a – add – команда, которая добавит новый документ в каталог и в перечень полок, спросив его номер, тип, имя владельца и номер полки, на котором он будет храниться. *Корректно обработайте ситуацию, когда пользователь будет пытаться добавить документ на несуществующую полку*."
   ]
  },
  {
   "cell_type": "code",
   "execution_count": 2,
   "metadata": {},
   "outputs": [],
   "source": [
    "def get_name(num):\n",
    "    for doc in documents:\n",
    "        if doc['number'] in num:\n",
    "            return print(doc['name'])\n",
    "    return print('Такой документ не найден')\n",
    "#p – people – команда, которая спросит номер документа и выведет имя человека, которому он принадлежит               "
   ]
  },
  {
   "cell_type": "code",
   "execution_count": 3,
   "metadata": {},
   "outputs": [],
   "source": [
    "def get_shelf(num):\n",
    "    for key, value in directories.items():\n",
    "        for doc_num in value:\n",
    "            if doc_num in num:\n",
    "                return print(key)\n",
    "    return print('Такой документ не найден')\n",
    "#s – shelf – команда, которая спросит номер документа и выведет номер полки, на которой он находится"
   ]
  },
  {
   "cell_type": "code",
   "execution_count": 4,
   "metadata": {},
   "outputs": [],
   "source": [
    "def list_doc():\n",
    "    for doc in documents:\n",
    "        print(doc['type'], ' \"',doc['number'],'\" ','\"',doc['name'], '\"', sep='')\n",
    "#l – list – команда, которая выведет список всех документов "
   ]
  },
  {
   "cell_type": "code",
   "execution_count": 5,
   "metadata": {},
   "outputs": [],
   "source": [
    "def add_shelf(num):\n",
    "    directories.setdefault(num, [])\n",
    "    return print('Полка добавлена или уже существует')  \n",
    "#as – add shelf – команда, которая спросит номер новой полки и добавит ее в перечень. "
   ]
  },
  {
   "cell_type": "code",
   "execution_count": 6,
   "metadata": {},
   "outputs": [],
   "source": [
    "def delete_doc(num):\n",
    "    for doc in documents:\n",
    "        if doc['number'] in num:\n",
    "            return documents.remove(doc)\n",
    "        else:\n",
    "            x = 'Такой документ не найден в каталоге'\n",
    "    return print(x)\n",
    "def delete_dir(num):\n",
    "    for value in directories.values():\n",
    "        for doc_num in value:\n",
    "            if doc_num in num:\n",
    "                value.remove(num)\n",
    "                return True\n",
    "    print('Такой документ не найден на полке')\n",
    "    return False\n",
    "\n",
    "def delete_num(num):\n",
    "    return delete_doc(num), delete_dir(num), print('Документ удален в каталоге и на полке')\n",
    "\n",
    "#d – delete – команда, которая спросит номер документа и удалит его из каталога и из перечня полок. "
   ]
  },
  {
   "cell_type": "code",
   "execution_count": 7,
   "metadata": {},
   "outputs": [],
   "source": [
    "def move_doc(num, shelf):\n",
    "#    if directories.get(shelf, 'Такая полка отсутствует')\n",
    "    for key, value in directories.items():\n",
    "        if key == shelf:\n",
    "            if delete_dir(num):\n",
    "                value.append(num)\n",
    "                return print('Документ перемещен на новую полку')\n",
    "    return print('Такая полка отсутствует')\n",
    "\n",
    "#m – move – команда, которая спросит номер документа и целевую полку и переместит его с текущей полки на целевую."
   ]
  },
  {
   "cell_type": "code",
   "execution_count": 8,
   "metadata": {},
   "outputs": [],
   "source": [
    "def add_doc(num, type_num, name_num, shelf):\n",
    "    for key, value in directories.items():\n",
    "        if key == shelf:\n",
    "            value.append(num)\n",
    "            new_doc = {'type': type_num, 'number': num, 'name': name_num}\n",
    "            documents.append(new_doc)\n",
    "            return print('Документ добавлен')\n",
    "    print('Документ не добавлен, вы ввели номер отсутствующей полки')\n",
    "\n",
    "#a – add – команда, которая добавит новый документ в каталог и в перечень полок, спросив его номер, тип, имя владельца и номер полки, на котором он будет храниться."
   ]
  },
  {
   "cell_type": "code",
   "execution_count": 9,
   "metadata": {},
   "outputs": [
    {
     "name": "stdout",
     "output_type": "stream",
     "text": [
      "Команды для ввода:\n",
      "p - выводит имя человека по номеру документа, которому он принадлежит\n",
      "s – выводит номер полки по номеру документа, на которой он находится\n",
      "l - выводит список всех документов\n",
      "as - добавит новую полку\n",
      "d – удаляет документ из каталога и из перечня полок\n",
      "m – переместит документ с текущей полки на целевую\n",
      "a – добавит новый документ в каталог и в перечень полок\n"
     ]
    }
   ],
   "source": [
    "documents = [\n",
    "    {'type': 'passport', 'number': '2207 876234', 'name': 'Василий Гупкин'},\n",
    "    {'type': 'invoice', 'number': '11-2', 'name': 'Геннадий Покемонов'},\n",
    "    {'type': 'insurance', 'number': '10006', 'name': 'Аристарх Павлов'}\n",
    "]\n",
    "directories = {\n",
    "    '1': ['2207 876234', '11-2'],\n",
    "    '2': ['10006'],\n",
    "    '3': []\n",
    "}\n",
    "print('Команды для ввода:', 'p - выводит имя человека по номеру документа, которому он принадлежит', 's – выводит номер полки по номеру документа, на которой он находится', 'l - выводит список всех документов', 'as - добавит новую полку', 'd – удаляет документ из каталога и из перечня полок', 'm – переместит документ с текущей полки на целевую', 'a – добавит новый документ в каталог и в перечень полок', sep='\\n')"
   ]
  },
  {
   "cell_type": "code",
   "execution_count": 23,
   "metadata": {},
   "outputs": [
    {
     "name": "stdout",
     "output_type": "stream",
     "text": [
      "Введите команду: a\n",
      "Введите номер документа для добавления: 1111\n",
      "Введите тип документа для добавления: pasport\n",
      "Введите имя владельца документа для добавления: SP\n",
      "Введите номер полки для добавления документа: 3\n"
     ]
    }
   ],
   "source": [
    "command = input('Введите команду: ')\n",
    "def enter_command(command):\n",
    "    if command == 'p':\n",
    "        num = input('Введите номер документа: ')\n",
    "        get_name(num)\n",
    "    elif command == 's':\n",
    "        num = input('Введите номер документа: ')\n",
    "        get_shelf(num)\n",
    "    elif command == 'l':\n",
    "        list_doc()\n",
    "    elif command == 'as':\n",
    "        num = input('Введите номер новой полки для добавления: ')\n",
    "        add_shelf(num)\n",
    "    elif command == 'd':\n",
    "        num = input('Введите номер для удаления: ')\n",
    "        delete_num(num)\n",
    "    elif command == 'm':\n",
    "        num = input('Введите номер документа для перемещения: ')\n",
    "        shelf = input('Введите номер полки: ')\n",
    "        move_doc(num, shelf)\n",
    "    elif command == 'a':\n",
    "        num = input('Введите номер документа для добавления: ')\n",
    "        type_num = input('Введите тип документа для добавления: ')\n",
    "        name_num = input('Введите имя владельца документа для добавления: ')\n",
    "        shelf = input('Введите номер полки для добавления документа: ')\n",
    "        add_doc(num, type_num, name_num, shelf)\n",
    "    else:\n",
    "        print('Вы ввели неправильную команду')\n",
    "enter_command(command)"
   ]
  },
  {
   "cell_type": "code",
   "execution_count": null,
   "metadata": {},
   "outputs": [],
   "source": []
  }
 ],
 "metadata": {
  "kernelspec": {
   "display_name": "Python 3",
   "language": "python",
   "name": "python3"
  },
  "language_info": {
   "codemirror_mode": {
    "name": "ipython",
    "version": 3
   },
   "file_extension": ".py",
   "mimetype": "text/x-python",
   "name": "python",
   "nbconvert_exporter": "python",
   "pygments_lexer": "ipython3",
   "version": "3.7.4"
  }
 },
 "nbformat": 4,
 "nbformat_minor": 2
}
