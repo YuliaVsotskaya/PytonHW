{
 "cells": [
  {
   "cell_type": "code",
   "execution_count": null,
   "metadata": {},
   "outputs": [],
   "source": [
    "Задание 1\n",
    "Напишите функцию, которая классифицирует фильмы из материалов занятия по следующим правилам:\n",
    "- оценка 2 и меньше - низкий рейтинг\n",
    "- оценка 4 и меньше - средний рейтинг\n",
    "- оценка 4.5 и 5 - высокий рейтинг\n",
    "\n",
    "Результат классификации запишите в столбец class"
   ]
  },
  {
   "cell_type": "code",
   "execution_count": null,
   "metadata": {},
   "outputs": [],
   "source": [
    "import pandas as pd\n",
    "data = pd.read_csv('ratings.dat', names = ['UserIDs', 'MovieIDs', 'Rating', 'Timestamp'], sep='::', header=None)"
   ]
  },
  {
   "cell_type": "code",
   "execution_count": null,
   "metadata": {},
   "outputs": [],
   "source": [
    "def classify(rating):\n",
    "    if rating <= 2:\n",
    "        return 'низкий рейтинг'\n",
    "    elif rating <= 4:\n",
    "        return 'средний рейтинг'\n",
    "    else:\n",
    "        return 'высокий рейтинг'\n",
    "    \n",
    "data['Class'] = data.Rating.apply(classify)\n",
    "data.head()"
   ]
  },
  {
   "cell_type": "code",
   "execution_count": null,
   "metadata": {},
   "outputs": [],
   "source": [
    "Задание 2\n",
    "Используем файл keywords.csv.\n",
    "Необходимо написать гео-классификатор, который каждой строке сможет выставить географическую принадлежность определенному региону. \n",
    "Т. е. если поисковый запрос содержит название города региона, то в столбце ‘region’ пишется название этого региона. \n",
    "Если поисковый запрос не содержит названия города, то ставим ‘undefined’.\n",
    "Правила распределения по регионам Центр, Северо-Запад и Дальний Восток:\n",
    "geo_data = {\n",
    "'Центр': ['москва', 'тула', 'ярославль'],\n",
    "'Северо-Запад': ['петербург', 'псков', 'мурманск'],\n",
    "'Дальний Восток': ['владивосток', 'сахалин', 'хабаровск']\n",
    "}\n",
    "Результат классификации запишите в отдельный столбец region."
   ]
  },
  {
   "cell_type": "code",
   "execution_count": null,
   "metadata": {},
   "outputs": [],
   "source": [
    "import pandas as pd\n",
    "df = pd.read_csv('keywords.csv')\n",
    "df.head(100)"
   ]
  },
  {
   "cell_type": "code",
   "execution_count": null,
   "metadata": {},
   "outputs": [],
   "source": [
    "geo_data = {\n",
    "'Центр': ['москва', 'тула', 'ярославль'],\n",
    "'Северо-Запад': ['петербург', 'псков', 'мурманск'],\n",
    "'Дальний Восток': ['владивосток', 'сахалин', 'хабаровск']\n",
    "}\n",
    "def classify_geo(words):\n",
    "    words = words.split(' ')\n",
    "    for key, value in geo_data.items():\n",
    "        for word in words:\n",
    "            if word in value:\n",
    "                return key\n",
    "    return 'undefined' "
   ]
  },
  {
   "cell_type": "code",
   "execution_count": null,
   "metadata": {},
   "outputs": [],
   "source": [
    "df['region'] = df.keyword.apply(classify_geo)\n",
    "df.groupby(['region']).count().head() "
   ]
  },
  {
   "cell_type": "code",
   "execution_count": null,
   "metadata": {},
   "outputs": [],
   "source": [
    "Задание 3 (бонусное)\n",
    "Есть мнение, что “раньше снимали настоящее кино, не то что сейчас”. \n",
    "Ваша задача проверить это утверждение, используя файлы с рейтингами фильмов из прошлого домашнего занятия \n",
    "(файл ratings.csv из базы https://grouplens.org/datasets/movielens). \n",
    "Т. е. проверить верно ли, что с ростом года выпуска фильма его средний рейтинг становится ниже.\n",
    "\n",
    "При этом мы не будем затрагивать субьективные факторы выставления этих рейтингов, а пройдемся по следующему алгоритму:\n",
    "В переменную years запишите список из всех годов с 1950 по 2010.\n",
    "Напишите функцию production_year, которая каждой строке из названия фильма выставляет год выпуска. \n",
    "Не все названия фильмов содержат год выпуска в одинаковом формате, поэтому используйте следующий алгоритм:\n",
    "\n",
    "для каждой строки пройдите по всем годам списка years\n",
    "если номер года присутствует в названии фильма, то функция возвращает этот год как год выпуска\n",
    "если ни один из номеров года списка years не встретился в названии фильма, то возвращается 1900 год\n",
    "Запишите год выпуска фильма по алгоритму пункта 2 в новый столбец ‘year’\n",
    "\n",
    "Посчитайте средний рейтинг всех фильмов для каждого значения столбца ‘year’ и отсортируйте результат по убыванию рейтинга"
   ]
  },
  {
   "cell_type": "code",
   "execution_count": null,
   "metadata": {},
   "outputs": [],
   "source": []
  },
  {
   "cell_type": "code",
   "execution_count": null,
   "metadata": {},
   "outputs": [],
   "source": [
    "import pandas as pd\n",
    "data = pd.read_csv('movies.dat', names = ['MovieIDs', 'Title', 'Genres'], sep='::', header=None)"
   ]
  },
  {
   "cell_type": "code",
   "execution_count": null,
   "metadata": {},
   "outputs": [],
   "source": [
    "years_list = list(range(1950, 2011, 1))"
   ]
  },
  {
   "cell_type": "code",
   "execution_count": null,
   "metadata": {},
   "outputs": [],
   "source": [
    "def production_year(row):\n",
    "    for year in years_list:\n",
    "        if str(year) in row.Title:\n",
    "            return year\n",
    "    return 1990\n",
    "\n",
    "data['Year'] = data.apply(production_year, axis=1)\n",
    "data.head()"
   ]
  },
  {
   "cell_type": "code",
   "execution_count": null,
   "metadata": {},
   "outputs": [],
   "source": [
    "data_rating = pd.read_csv('ratings.dat', names = ['UserIDs', 'MovieIDs', 'Rating', 'Timestamp'], sep='::', header=None)"
   ]
  },
  {
   "cell_type": "code",
   "execution_count": null,
   "metadata": {},
   "outputs": [],
   "source": [
    "data_year = data.filter(items = ['MovieIDs', 'Year'])\n",
    "data_year.head()"
   ]
  },
  {
   "cell_type": "code",
   "execution_count": null,
   "metadata": {},
   "outputs": [],
   "source": [
    "data_rating.merge(data_year, how='left', on=['MovieIDs'])\n",
    "data_rating.head()"
   ]
  },
  {
   "cell_type": "code",
   "execution_count": null,
   "metadata": {},
   "outputs": [],
   "source": [
    "data_check = data.filter(items = ['Rating', 'Year'])\n",
    "data_check.groupby('Year').mean().sort_values('Rating', ascending=False).head()"
   ]
  }
 ],
 "metadata": {
  "kernelspec": {
   "display_name": "Python 3",
   "language": "python",
   "name": "python3"
  },
  "language_info": {
   "codemirror_mode": {
    "name": "ipython",
    "version": 3
   },
   "file_extension": ".py",
   "mimetype": "text/x-python",
   "name": "python",
   "nbconvert_exporter": "python",
   "pygments_lexer": "ipython3",
   "version": "3.7.4"
  }
 },
 "nbformat": 4,
 "nbformat_minor": 2
}
