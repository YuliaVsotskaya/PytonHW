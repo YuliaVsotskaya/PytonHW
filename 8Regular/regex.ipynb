{
 "cells": [
  {
   "cell_type": "markdown",
   "metadata": {},
   "source": [
    "**Задание 1.** Напишите функцию, которая принимает на вход строку и проверяет является ли она валидным транспортным номером. Если да, то функция должна возвращать отдельно номер и регион."
   ]
  },
  {
   "cell_type": "code",
   "execution_count": null,
   "metadata": {},
   "outputs": [],
   "source": [
    "import re\n",
    "auto_num = input('Введите номер транспортного средства: ')\n",
    "regex_num = r'(?i:([АВЕКМНОРСТУХABEKMHOPCTYX]{1}\\d{3}(?<!000)[АВЕКМНОРСТУХABEKMHOPCTYX]{2})(\\d{2,3}))'\n",
    "def check_auto_num(auto_num):\n",
    "    if re.findall(regex_num, auto_num):\n",
    "        print ('Номер автомобиля:', re.sub(regex_num, r'\\1', auto_num))\n",
    "        print ('Регион:',re.sub(regex_num, r'\\2', auto_num))\n",
    "    else:\n",
    "        print('Вы ввели не номер транспортного средства')\n",
    "\n",
    "check_auto_num(auto_num)"
   ]
  },
  {
   "cell_type": "markdown",
   "metadata": {},
   "source": [
    "**Задание 2**. Постарайтесь написать (в крайнем случае найти) самый полный шаблон для проверки e-mail адресов через регулярное выражение, которая проверяет e-mail адрес на валидность. Можно руководствоваться следующими минимальными требованиями:\n",
    "* адрес должен содержать специальный символ \"@\", который отделяет имя пользователя почтовой системы от доменного имени;\n",
    "* адрес не должен содержать следующие символы: \"пробел\", \",\", \":\", \";\", \"!\", \"#\", \"%\", \"*\", \"(\", \")\", \"=\", \"+\", \"{\", \"}\", \" \" \", \" ' \", \" / \", \" \\ \" и \"|\";\n",
    "* адрес должен состоять только из латинских символов;\n",
    "* после символа \"@\" должна быть как минимум одна \".\";\n",
    "* после последней точки должно быть не менее 2-х и не более 4-х символов, причем наличие цифр не допускается;\n",
    "* между последней точкой и символом \"@\" должно быть не менее 2-х символов\n",
    "* слева от \"@\" должно быть не менее четырех символов\n"
   ]
  },
  {
   "cell_type": "code",
   "execution_count": null,
   "metadata": {},
   "outputs": [],
   "source": [
    "regex_e_mail = r'^(?i:(([a-z0-9_.-]{4,})+@([a-z0-9_.-]{2,})+\\.[a-z]{2,4}))$'"
   ]
  },
  {
   "cell_type": "markdown",
   "metadata": {},
   "source": [
    "**Задание 3.** Напишите функцию, которая будет удалять все последовательные повторы слов из заданной строки при помощи регулярных выражений."
   ]
  },
  {
   "cell_type": "code",
   "execution_count": null,
   "metadata": {},
   "outputs": [],
   "source": [
    "text = 'Что такое regex и как как их ИХ их использовать'\n",
    "def del_re_word(text):\n",
    "    return print(re.sub(r'\\b([^\\W\\d_]+)(\\s+\\1)+\\b', r'\\1', re.sub(r'\\W+', ' ', text), flags=re.I))\n",
    "del_re_word(text)"
   ]
  },
  {
   "cell_type": "markdown",
   "metadata": {},
   "source": [
    "**Задание 4**. Напишите функцию, которая будет проверять номер сотового телефона на валидность, если он валиден, то переводить его в формат:   \n",
    "+7(xxx)-xxx-xx-xx  \n",
    "Постарайтесь предусмотреть как можно больше адекватных форматов изначального ввода номера.\n",
    "Примеры валидных форматов:\n",
    "- +7 955 555-55-55;\n",
    "- 9555555555;\n",
    "- 8(955)555-55-55;\n",
    "- +7 955 555 55 55;\n",
    "- 7(955) 555-55-55;\n",
    "- +7 955+555+55+55."
   ]
  },
  {
   "cell_type": "code",
   "execution_count": null,
   "metadata": {},
   "outputs": [],
   "source": [
    "def check_phone():\n",
    "    phone_number = input('Введите номер телефона: ')\n",
    "    new_phone_number = re.sub('\\D', '', phone_number)\n",
    "    if len(new_phone_number) == 10:\n",
    "        return print(re.sub('(\\d{3})(\\d{3})(\\d{2})(\\d{2})', r'+7(\\1)-\\2-\\3-\\4', new_phone_number))\n",
    "    elif len(new_phone_number) == 11 and re.match('[78]',new_phone_number):\n",
    "        return print(re.sub('(\\d{1})(\\d{3})(\\d{3})(\\d{2})(\\d{2})', r'+7(\\2)-\\3-\\4-\\5', new_phone_number))\n",
    "    else:\n",
    "        return print('Вы ввели не номер сотового телефона')\n",
    "check_phone()"
   ]
  }
 ],
 "metadata": {
  "kernelspec": {
   "display_name": "Python 3",
   "language": "python",
   "name": "python3"
  },
  "language_info": {
   "codemirror_mode": {
    "name": "ipython",
    "version": 3
   },
   "file_extension": ".py",
   "mimetype": "text/x-python",
   "name": "python",
   "nbconvert_exporter": "python",
   "pygments_lexer": "ipython3",
   "version": "3.7.4"
  }
 },
 "nbformat": 4,
 "nbformat_minor": 2
}
